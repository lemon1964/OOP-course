{
 "cells": [
  {
   "attachments": {},
   "cell_type": "markdown",
   "metadata": {},
   "source": [
    "setattr, getattr, hasattr, delattr"
   ]
  },
  {
   "cell_type": "code",
   "execution_count": null,
   "metadata": {},
   "outputs": [],
   "source": [
    "class Point:\n",
    "    color = 'red'\n",
    "    circle = 2\n",
    "\n",
    "setattr(Point, 'prop', 1)\n",
    "getattr(Point, 'a', False)\n",
    "hasattr(Point, 'prop')\n",
    "delattr(Point, 'type_pt')"
   ]
  },
  {
   "attachments": {},
   "cell_type": "markdown",
   "metadata": {},
   "source": [
    "__new__, паттерн Singleton"
   ]
  },
  {
   "cell_type": "code",
   "execution_count": 236,
   "metadata": {},
   "outputs": [
    {
     "name": "stdout",
     "output_type": "stream",
     "text": [
      "6174\n"
     ]
    }
   ],
   "source": [
    "class Point:    \n",
    "\n",
    "    __instance = None\n",
    "    x = None\n",
    "\n",
    "    def __new__(cls, *args, **kwargs):\n",
    "        if cls.__instance is None:\n",
    "            cls.__instance = super().__new__(cls)\n",
    "\n",
    "    def __init__(self, name):\n",
    "        if not self.x:\n",
    "            self.name = name\n",
    "            self.x = 1\n",
    " \n",
    "        return cls.__instance"
   ]
  },
  {
   "cell_type": "code",
   "execution_count": null,
   "metadata": {},
   "outputs": [],
   "source": [
    "@classmethod\n",
    "    def validate(cls, arg):\n",
    "        return cls.MIN_COORD <= arg <= cls.MAX_COORD\n",
    "\n",
    "@staticmethod\n",
    "    def norm2(x, y):\n",
    "        return x*x + y*y"
   ]
  },
  {
   "cell_type": "code",
   "execution_count": 58,
   "metadata": {},
   "outputs": [],
   "source": [
    "def get_сoord(self):\n",
    "        return self.__x, self.__y\n",
    "def set_coord(self, x, y):\n",
    "        if type(x) in (int, float) and type(y) in (int, float):\n",
    "            self.__x = x\n",
    "            self.__y = y\n",
    "        else:\n",
    "            raise ValueError(\"Координаты должны быть числами\")"
   ]
  },
  {
   "cell_type": "code",
   "execution_count": null,
   "metadata": {},
   "outputs": [],
   "source": [
    "old = property(get_old, set_old)\n",
    "old = property()\n",
    "old = old.setter(set_old)\n",
    "old = old.getter(get_old)\n",
    "\n",
    "class Person:\n",
    "    def __init__(self, name, old):\n",
    "        self.__name = name\n",
    "        self.__old = old\n",
    " \n",
    "    @property\n",
    "    def old(self):\n",
    "        return self.__old\n",
    " \n",
    "    @old.setter\n",
    "    def old(self, old):\n",
    "        self.__old = old\n"
   ]
  },
  {
   "cell_type": "code",
   "execution_count": null,
   "metadata": {},
   "outputs": [],
   "source": [
    "class Integer:\n",
    "    @classmethod\n",
    "    def verify_coord(cls, coord):\n",
    "        if type(coord) != int:\n",
    "            raise TypeError(\"Координата должна быть целым числом\")\n",
    " \n",
    "    def __set_name__(self, owner, name):\n",
    "        self.name = \"_\" + name\n",
    " \n",
    "    def __get__(self, instance, owner):\n",
    "        return getattr(instance, self.name)\n",
    " \n",
    "    def __set__(self, instance, value):\n",
    "        self.verify_coord(value)\n",
    "        setattr(instance, self.name, value)"
   ]
  },
  {
   "cell_type": "code",
   "execution_count": null,
   "metadata": {},
   "outputs": [],
   "source": [
    "def __getattribute__(self, item):\n",
    "        if item == \"_Point__x\":\n",
    "            raise ValueError(\"Private attribute\")\n",
    "        else:\n",
    "            return object.__getattribute__(self, item)\n",
    "\n",
    "def __setattr__(self, key, value):\n",
    "        if key == 'z':\n",
    "            raise AttributeError(\"недопустимое имя атрибута\")\n",
    "        else:\n",
    "            object.__setattr__(self, key, value)\n",
    "\n",
    "def __getattr__(self, item):\n",
    "        print(\"__getattr__: \" + item)\n",
    "\n",
    "def __delattr__(self, item):\n",
    "        print(\"__delattr__: \"+item)"
   ]
  },
  {
   "attachments": {},
   "cell_type": "markdown",
   "metadata": {},
   "source": [
    "__call__ "
   ]
  },
  {
   "cell_type": "code",
   "execution_count": null,
   "metadata": {},
   "outputs": [],
   "source": [
    "class Counter:\n",
    "    def __init__(self):\n",
    "        self.__counter = 0\n",
    " \n",
    "    def __call__(self, *args, **kwargs):\n",
    "        print(\"__call__\")\n",
    "        self.__counter += 1\n",
    "        return self.__counter\n",
    "\n",
    "    def __call__(self, step=1, *args, **kwargs):\n",
    "        self.__counter += step\n",
    "        return self.__counter\n",
    "\n",
    "c(2)\n",
    "c(10)\n",
    "res = c()\n",
    "res2 = c2(-5)\n",
    "\n",
    "class Derivate:\n",
    "    def __init__(self, func):\n",
    "        self.__fn = func\n",
    " \n",
    "    def __call__(self, x, dx=0.0001, *args, **kwargs):\n",
    "        return (self.__fn(x + dx) - self.__fn(x)) / dx\n",
    "\n",
    "def df_sin(x):\n",
    "    return math.sin(x)\n",
    "print(df_sin(math.pi/4))\n",
    "\n",
    "@Derivate\n",
    "def df_sin(x):\n",
    "    return math.sin(x)"
   ]
  },
  {
   "attachments": {},
   "cell_type": "markdown",
   "metadata": {},
   "source": [
    "__repr__ __str__ __len__ __abs__"
   ]
  },
  {
   "cell_type": "code",
   "execution_count": 3,
   "metadata": {},
   "outputs": [
    {
     "name": "stdout",
     "output_type": "stream",
     "text": [
      "<class '__main__.Cat'>: Васька\n"
     ]
    }
   ],
   "source": [
    "class Cat:\n",
    "    def __init__(self, name):\n",
    "        self.name = name\n",
    "    def __repr__(self):\n",
    "        return f\"{self.__class__}: {self.name}\"\n",
    "    def __str__(self):\n",
    "        return f\"{self.name}\"   \n",
    "cat = Cat('Васька')\n",
    "print(repr(cat))\n",
    "\n",
    "class Point:\n",
    "    def __init__(self, *args):\n",
    "        self.__coords = args\n",
    "    def __len__(self):\n",
    "        return len(self.__coords)\n",
    "    def __abs__(self):\n",
    "        return list( map(abs, self.__coords))\n",
    "# p = Point(1, 2)\n",
    "# print(len(p))\n",
    "# print(abs(p))"
   ]
  },
  {
   "attachments": {},
   "cell_type": "markdown",
   "metadata": {},
   "source": [
    "Магические методы __add__, __sub__, __mul__, __truediv__\n",
    "\n",
    "Оператор   Метод оператора\n",
    "x + y __add__(self, other)          x += y __iadd__(self, other)\n",
    "x - y __sub__(self, other)          x -= y __isub__(self, other)\n",
    "x * y __mul__(self, other)          x *= y __imul__(self, other)\n",
    "x / y __truediv__(self, other)      x /= y __itruediv__(self, other)\n",
    "x // y __floordiv__(self, other)    x //= y __ifloordiv__(self, other)\n",
    "x % y __mod__(self, other)          x %= y __imod__(self, other)"
   ]
  },
  {
   "cell_type": "code",
   "execution_count": null,
   "metadata": {},
   "outputs": [],
   "source": [
    "class Clock:\n",
    "    __DAY = 86400   # число секунд в одном дне\n",
    " \n",
    "    def __init__(self, seconds: int):\n",
    "        if not isinstance(seconds, int):\n",
    "            raise TypeError(\"Секунды должны быть целым числом\")\n",
    "        self.seconds = seconds % self.__DAY\n",
    "    \n",
    "    def get_time(self):\n",
    "        s = self.seconds % 60            # секунды\n",
    "        m = (self.seconds // 60) % 60    # минуты\n",
    "        h = (self.seconds // 3600) % 24  # часы\n",
    "        return f\"{self.__get_formatted(h)}:{self.__get_formatted(m)}:{self.__get_formatted(s)}\"\n",
    " \n",
    "    @classmethod\n",
    "    def __get_formatted(cls, x):\n",
    "        return str(x).rjust(2, \"0\")\n",
    "\n",
    "    def __add__(self, other):\n",
    "        if not isinstance(other, (int, Clock)):\n",
    "            raise ArithmeticError(\"Правый операнд должен быть типом int или объектом Clock\")\n",
    "        sc = other if isinstance(other, int) else other.seconds\n",
    "        return Clock(self.seconds + sc)\n",
    "# c1 = c1 + 100\n",
    "# c1 = Clock(1000)\n",
    "# c2 = Clock(2000)\n",
    "# c3 = Clock(3000)\n",
    "# c4 = c1 + c2 + c3\n",
    "# print(c4.get_time())\n",
    "    def __radd__(self, other):\n",
    "        return self + other\n",
    "# c1 = 100 + c1\n",
    "    def __iadd__(self, other):\n",
    "        print(\"__iadd__\")\n",
    "        if not isinstance(other, (int, Clock)):\n",
    "            raise ArithmeticError(\"Правый операнд должен быть типом int или объектом Clock\")\n",
    "        sc = other if isinstance(other, int) else other.seconds\n",
    "        self.seconds += sc\n",
    "        return self\n",
    "# c1 += 100\n",
    "# При создании нового экземпляра класса внутри метода __add__ вместо имени класса Clock() лучше использовать self.__class__()  \n",
    "# return self.__class__(self.seconds + other)\n",
    "\n"
   ]
  },
  {
   "attachments": {},
   "cell_type": "markdown",
   "metadata": {},
   "source": [
    "Методы сравнений \n",
    "__eq__() – для равенства ==                    **\n",
    "__ne__() – для неравенства !=\n",
    "__lt__() – для оператора меньше <              **\n",
    "__le__() – для оператора меньше или равно <=   **\n",
    "__gt__() – для оператора больше >\n",
    "__ge__() – для оператора больше или равно >="
   ]
  },
  {
   "cell_type": "code",
   "execution_count": 1,
   "metadata": {},
   "outputs": [
    {
     "name": "stdout",
     "output_type": "stream",
     "text": [
      "True\n"
     ]
    }
   ],
   "source": [
    "class Clock:\n",
    "    __DAY = 86400   # число секунд в одном дне\n",
    " \n",
    "    def __init__(self, seconds: int):\n",
    "        if not isinstance(seconds, int):\n",
    "            raise TypeError(\"Секунды должны быть целым числом\")\n",
    "        self.seconds = seconds % self.__DAY\n",
    "\n",
    "    @classmethod\n",
    "    def __verify_data(cls, other):\n",
    "        if not isinstance(other, (int, Clock)):\n",
    "            raise TypeError(\"Операнд справа должен иметь тип int или Clock\")\n",
    "        return other if isinstance(other, int) else other.seconds\n",
    "    \n",
    "    def __eq__(self, other):\n",
    "        sc = self.__verify_data(other)\n",
    "        return self.seconds == sc\n",
    " \n",
    "    def __lt__(self, other):\n",
    "        sc = self.__verify_data(other)\n",
    "        return self.seconds < sc\n",
    "    \n",
    "    def __le__(self, other):\n",
    "        sc = self.__verify_data(other)\n",
    "        return self.seconds <= sc\n",
    "    \n",
    "c1 = Clock(1000)\n",
    "c2 = Clock(2000)\n",
    "print(c1 < c2)\n",
    "    \n",
    "    "
   ]
  },
  {
   "attachments": {},
   "cell_type": "markdown",
   "metadata": {},
   "source": [
    "Магические методы __eq__ и __hash__"
   ]
  },
  {
   "cell_type": "code",
   "execution_count": 7,
   "metadata": {},
   "outputs": [
    {
     "name": "stdout",
     "output_type": "stream",
     "text": [
      "-3550055125485641917\n",
      "-3550055125485641917\n",
      "True True\n",
      "{<__main__.Point object at 0x10a531e80>: 2}\n"
     ]
    }
   ],
   "source": [
    "class Point:\n",
    "    def __init__(self, x, y):\n",
    "        self.x = x\n",
    "        self.y = y\n",
    "    def __eq__(self, other):\n",
    "        return self.x == other.x and self.y == other.y\n",
    "    def __hash__(self):\n",
    "        return hash((self.x, self.y))\n",
    "    \n",
    "p1 = Point(1, 2)\n",
    "p2 = Point(1, 2)\n",
    "print(hash(p1), hash(p2), sep='\\n')\n",
    "print(p1 == p2, hash(p1) == hash(p2))\n",
    "d = {}\n",
    "d[p1] = 1\n",
    "d[p2] = 2\n",
    "print(d)"
   ]
  },
  {
   "attachments": {},
   "cell_type": "markdown",
   "metadata": {},
   "source": [
    "__bool__"
   ]
  },
  {
   "cell_type": "code",
   "execution_count": 10,
   "metadata": {},
   "outputs": [
    {
     "name": "stdout",
     "output_type": "stream",
     "text": [
      "__bool__\n",
      "объект p дает False\n"
     ]
    }
   ],
   "source": [
    "'''__len__() – вызывается функцией bool(), если не определен магический метод __bool__();\n",
    "__bool__() – вызывается в приоритетном порядке функцией bool().'''\n",
    "\n",
    "class Point:\n",
    "    def __init__(self, x, y):\n",
    "        self.x = x\n",
    "        self.y = y\n",
    " \n",
    "    def __len__(self):\n",
    "        return self.x * self.x + self.y * self.y\n",
    "    \n",
    "    def __bool__(self):\n",
    "        return self.x == self.y\n",
    "    \n",
    "p = Point(10, 20)\n",
    "if p:\n",
    "    print(\"объект p дает True\")\n",
    "else:\n",
    "    print(\"объект p дает False\")"
   ]
  },
  {
   "attachments": {},
   "cell_type": "markdown",
   "metadata": {},
   "source": [
    "__getitem__(self, item) – получение значения по ключу item;\n",
    "__setitem__(self, key, value) – запись значения value по ключу key;\n",
    "__delitem__(self, key) – удаление элемента по ключу key"
   ]
  },
  {
   "cell_type": "code",
   "execution_count": 9,
   "metadata": {},
   "outputs": [],
   "source": [
    "class Student:\n",
    "    def __init__(self, name, marks):\n",
    "        self.name = name\n",
    "        self.marks = list(marks)\n",
    "        print(marks, self.marks)\n",
    "\n",
    "    def __getitem__(self, indx):\n",
    "        self.check(indx)\n",
    "        return self.marks[indx]\n",
    "        \n",
    "    def __setitem__(self, indx, value):\n",
    "        self.check(indx)\n",
    "        self.marks[indx] = value\n",
    "\n",
    "    def __delitem__(self, key):\n",
    "        if not isinstance(key, int):\n",
    "            raise TypeError(\"Индекс должен быть целым числом\")\n",
    "        del self.marks[key]\n",
    "        \n",
    "# s1 = Student('Сергей', [5, 5, 3, 2, 5]) \n",
    "# print(s1[2])\n",
    "# s1[10] = 4\n",
    "# print(s1.marks) "
   ]
  },
  {
   "cell_type": "markdown",
   "metadata": {},
   "source": [
    "__iter__ и __next__"
   ]
  },
  {
   "cell_type": "code",
   "execution_count": 1,
   "metadata": {},
   "outputs": [
    {
     "name": "stdout",
     "output_type": "stream",
     "text": [
      "<__main__.FRange object at 0x105852790>\n",
      "0.0 0.5 1.0 1.5 \n",
      "\n",
      "\n"
     ]
    }
   ],
   "source": [
    "class FRange:\n",
    "    def __init__(self, start=0.0, stop=0.0, step=1.0):\n",
    "        self.start = start\n",
    "        self.stop = stop\n",
    "        self.step = step\n",
    "        self.value = self.start - self.step\n",
    "\n",
    "    def __next__(self):\n",
    "        if self.value + self.step < self.stop:\n",
    "            self.value += self.step\n",
    "            return self.value\n",
    "        else:\n",
    "            raise StopIteration\n",
    "        \n",
    "    def __iter__(self):\n",
    "        #self.value = self.start - self.step\n",
    "        return self\n",
    "    \n",
    "fr = FRange(0, 2, 0.5)\n",
    "\n",
    "class FRange2D:\n",
    "    def __init__(self, start=0.0, stop=0.0, step=1.0, rows=5):\n",
    "        self.fr = FRange(start, stop, step)\n",
    "        self.rows = rows\n",
    "        self.value_row = 0\n",
    "\n",
    "    def __iter__(self):\n",
    "        #self.value_row = 0\n",
    "        return self\n",
    " \n",
    "    def __next__(self):\n",
    "        if self.value_row < self.rows:\n",
    "            self.value_row += 1\n",
    "            return iter(self.fr)\n",
    "        else:\n",
    "            raise StopIteration\n",
    "\n",
    "fr = FRange2D(0, 2, 0.5, 4)\n",
    "print(next(fr))\n",
    "\n",
    "for row in fr:\n",
    "    for x in row:\n",
    "        print(x, end=\" \",)\n",
    "    print()    \n",
    "    \n",
    "def __iter__(self):\n",
    "    yield from self.cells\n",
    "\n",
    "\n"
   ]
  },
  {
   "attachments": {},
   "cell_type": "markdown",
   "metadata": {},
   "source": [
    "Наследование. Родительские и дочерние классы"
   ]
  },
  {
   "cell_type": "code",
   "execution_count": null,
   "metadata": {},
   "outputs": [],
   "source": [
    "class Animal:\n",
    " \n",
    "    def __init__(self, name, old):\n",
    "        self.name = name\n",
    "        self.old = old\n",
    "\n",
    "class Cat(Animal):\n",
    "    def __init__(self, name, old, color, weight):\n",
    "        super().__init__(name, old)\n",
    "        self.color = color\n",
    "        self.weight = weight\n",
    "\n",
    "    def get_info(self):\n",
    "        return f'{self.name}: {self.old}, {self.color}, {self.weight}'\n",
    "\n",
    "class Dog(Animal):\n",
    "    def __init__(self, name, old, breed, size):\n",
    "        super().__init__(name, old)\n",
    "        self.breed = breed\n",
    "        self.size = size\n",
    "\n",
    "    def get_info(self):\n",
    "        return f'{self.name}: {self.old}, {self.breed}, {self.size}'"
   ]
  },
  {
   "attachments": {},
   "cell_type": "markdown",
   "metadata": {},
   "source": [
    "Функция issubclass(). Наследование от встроенных типов и от object"
   ]
  },
  {
   "cell_type": "code",
   "execution_count": null,
   "metadata": {},
   "outputs": [],
   "source": [
    "class Geom:\n",
    "    pass\n",
    "class Line(Geom):\n",
    "    pass\n",
    "print(issubclass(Line, Geom))\n",
    "l = Line()\n",
    "print(isinstance(l, Geom))\n",
    "print(isinstance(l, Line))\n",
    "print(isinstance(l, object))\n",
    "\n",
    "issubclass(int, object)\n",
    "issubclass(list, object)\n",
    "\n",
    "class Vector(list):\n",
    "    def __str__(self):\n",
    "        return \" \".join(map(str, self))\n",
    "v = Vector([1, 2, 3])\n",
    "print(v)\n",
    "print(type(v))\n"
   ]
  },
  {
   "attachments": {},
   "cell_type": "markdown",
   "metadata": {},
   "source": [
    "Функция super() и делегирование"
   ]
  },
  {
   "cell_type": "code",
   "execution_count": null,
   "metadata": {},
   "outputs": [],
   "source": [
    "class Rect(Geom):\n",
    "\n",
    "    def __init__(self, x1, y1, x2, y2, fill=None):\n",
    "        super().__init__(x1, y1, x2, y2)\n",
    "        print(\"инициализатор Rect\")\n",
    "        self.fill = fill"
   ]
  },
  {
   "attachments": {},
   "cell_type": "markdown",
   "metadata": {},
   "source": [
    "Атрибуты private и protected"
   ]
  },
  {
   "cell_type": "code",
   "execution_count": null,
   "metadata": {},
   "outputs": [],
   "source": [
    "class Geom:\n",
    "    name = 'Geom'\n",
    " \n",
    "    def __init__(self, x1, y1, x2, y2):\n",
    "        print(f\"инициализатор Geom для {self.__class__}\")\n",
    "        self.__x1 = x1\n",
    "        self.__y1 = y1\n",
    "        self.__x2 = x2\n",
    "        self.__y2 = y2\n",
    " \n",
    " \n",
    "class Rect(Geom):\n",
    "    def __init__(self, x1, y1, x2, y2, fill='red'):\n",
    "        super().__init__(x1, y1, x2, y2)\n",
    "        self.__fill = fill\n",
    "\n",
    "r = Rect(0, 0, 10, 20)\n",
    "'''{'_Geom__x1': 0, '_Geom__y1': 0, '_Geom__x2': 10, '_Geom__y2': 20, '_Rect__fill': 'red'}'''\n",
    "\n"
   ]
  },
  {
   "attachments": {},
   "cell_type": "markdown",
   "metadata": {},
   "source": [
    "Полиморфизм и абстрактные методы"
   ]
  },
  {
   "cell_type": "code",
   "execution_count": 7,
   "metadata": {},
   "outputs": [],
   "source": [
    "class Geom:\n",
    "    def get_pr(self):   #   абстрактный метод\n",
    "        raise NotImplementedError(\"В дочернем классе должен быть переопределен метод get_pr()\")\n",
    "\n",
    "class Rectangle(Geom):\n",
    "    def __init__(self, w, h):\n",
    "        self.w = w\n",
    "        self.h = h\n",
    " \n",
    "    def get_pr(self):\n",
    "        return 2*(self.w+self.h)\n",
    " \n",
    "class Square(Geom):\n",
    "    def __init__(self, a):\n",
    "        self.a = a\n",
    " \n",
    "    def get_pr(self):\n",
    "        return 4*self.a\n",
    "    \n",
    "class Triangle(Geom):\n",
    "    def __init__(self, a, b, c):\n",
    "        self.a = a\n",
    "        self.b = b\n",
    "        self.c = c\n",
    " \n",
    "    def get_pr(self):\n",
    "        return self.a + self.b + self.c\n",
    "    \n",
    "geom = [Rectangle(1, 2), Square(10), Triangle(4,5,6)]\n",
    "# for g in geom:\n",
    "#     # print( g.get_pr())"
   ]
  },
  {
   "attachments": {},
   "cell_type": "markdown",
   "metadata": {},
   "source": [
    "Множественное наследование"
   ]
  },
  {
   "cell_type": "code",
   "execution_count": 4,
   "metadata": {},
   "outputs": [],
   "source": [
    "class Goods:\n",
    "    def __init__(self, name, weight, price):\n",
    "        super().__init__()\n",
    "        print(\"init Goods\")\n",
    "        self.name = name\n",
    "        self.weight = weight\n",
    "        self.price = price\n",
    " \n",
    "    def print_info(self):\n",
    "        print(f\"{self.name}, {self.weight}, {self.price}\")\n",
    "\n",
    "class MixinLog:\n",
    "    ID = 0\n",
    " \n",
    "    def __init__(self):\n",
    "        print(\"init MixinLog\")\n",
    "        self.ID += 1\n",
    "        self.id = self.ID\n",
    " \n",
    "    def save_sell_log(self):\n",
    "        print(f\"{self.id}: товар продан в 00:00 часов\")\n",
    "\n",
    "    def print_info(self):\n",
    "        print(\"print_info класса MixinLog\")\n",
    "\n",
    "class NoteBook(Goods, MixinLog):\n",
    "    pass\n",
    "\n",
    "# n = NoteBook(\"Acer\", 1.5, 30000)\n",
    "# n.print_info()\n",
    "# n.save_sell_log()\n",
    "# MixinLog.print_info(n)\n",
    "# print(n.__class__, NoteBook.__mro__)"
   ]
  },
  {
   "attachments": {},
   "cell_type": "markdown",
   "metadata": {},
   "source": [
    "Коллекция __slots__"
   ]
  },
  {
   "cell_type": "code",
   "execution_count": 8,
   "metadata": {},
   "outputs": [
    {
     "name": "stdout",
     "output_type": "stream",
     "text": [
      "{'z': 30}\n"
     ]
    }
   ],
   "source": [
    "class Point2D:\n",
    "    __slots__ = ('x', 'y', '__length')\n",
    "\n",
    "    def __init__(self, x, y):\n",
    "        self.x = x\n",
    "        self.y = y\n",
    "        self.__length = (x*x + y*y) ** 0.5\n",
    "\n",
    "    @property\n",
    "    def length(self):\n",
    "        return self.__length\n",
    " \n",
    "    @length.setter\n",
    "    def length(self, value):\n",
    "        self.__length = value\n",
    "\n",
    "class Point3D(Point2D):\n",
    "    #__slots__ = 'z',\n",
    "\n",
    "    def __init__(self, x, y, z):\n",
    "        super().__init__(x, y)\n",
    "        self.z = z\n",
    "\n",
    "pt3 = Point3D(10, 20, 30)\n",
    "print(pt3.__dict__)   "
   ]
  },
  {
   "attachments": {},
   "cell_type": "markdown",
   "metadata": {},
   "source": [
    "Блоки try / except"
   ]
  },
  {
   "cell_type": "code",
   "execution_count": null,
   "metadata": {},
   "outputs": [],
   "source": [
    "try:\n",
    "    x, y = map(int, input().split())\n",
    "    res = x / y\n",
    "except ZeroDivisionError:\n",
    "    print(\"Делить на ноль нельзя!\")\n",
    "except ValueError:\n",
    "    print(\"Ошибка типа данных\")\n",
    "\n",
    "except (ZeroDivisionError, ValueError):\n",
    "    res = \"деление на ноль или нечисловое значение\"\n",
    "\n",
    "try:\n",
    "    x, y = map(int, input().split())\n",
    "    res = x / y\n",
    "except:\n",
    "    print(\"Ошибка\")"
   ]
  },
  {
   "attachments": {},
   "cell_type": "markdown",
   "metadata": {},
   "source": [
    "Блоки finally и else"
   ]
  },
  {
   "cell_type": "code",
   "execution_count": null,
   "metadata": {},
   "outputs": [],
   "source": [
    "try:\n",
    "    x, y = map(int, input().split())\n",
    "    res = x / y\n",
    "except ZeroDivisionError as z:\n",
    "    print(z)\n",
    "except ValueError as z:\n",
    "    print(z) \n",
    "else:\n",
    "    print(\"Исключений не произошло\")\n",
    "finally:\n",
    "    print(\"Блок finally выполняется всегда\")\n",
    "\n",
    "\n",
    "def div(a, b):\n",
    "    try:\n",
    "        return x / y\n",
    "    except ZeroDivisionError:\n",
    "        return \"Деление на ноль\"\n",
    "\n",
    "try:\n",
    "    x, y = map(int, input().split())\n",
    "    res = div(x, y)\n",
    "except ValueError as z:\n",
    "    print(\"Ошибка ValueError\")\n",
    "\n",
    "print(res)"
   ]
  },
  {
   "attachments": {},
   "cell_type": "markdown",
   "metadata": {},
   "source": [
    "Распространение исключений "
   ]
  },
  {
   "cell_type": "code",
   "execution_count": null,
   "metadata": {},
   "outputs": [],
   "source": [
    "def func1():\n",
    "    return 1/0\n",
    "print(\"Я к вам пишу – чего же боле?\")\n",
    "print(\"Что я могу еще сказать?\")\n",
    "print(\"Теперь, я знаю, в вашей воле\")\n",
    "func1()\n",
    "print(\"Меня презреньем наказать.\")\n",
    "print(\"Но вы, к моей несчастной доле\")\n",
    "print(\"Хоть каплю жалости храня,\")\n",
    "print(\"Вы не оставите меня.\")\n",
    "'''\n",
    "Traceback (most recent call last): \n",
    "File \"D:/Python/Projects/p_course/ex1.py\", line 7, in <module> \n",
    "func1() \n",
    "File \"D:/Python/Projects/p_course/ex1.py\", line 2, in func1 \n",
    "return 1/0 \n",
    "ZeroDivisionError: division by zero'''\n",
    "\n",
    "try:\n",
    "    func1()\n",
    "except:\n",
    "    print(\"Error for func1\")\n",
    "\n",
    "def func2():\n",
    "    try:\n",
    "        return 1/0\n",
    "    except:\n",
    "        return \"-- деление на ноль --\"\n",
    "    \n"
   ]
  },
  {
   "attachments": {},
   "cell_type": "markdown",
   "metadata": {},
   "source": [
    "Инструкция raise и пользовательские исключения"
   ]
  },
  {
   "cell_type": "code",
   "execution_count": 1,
   "metadata": {},
   "outputs": [
    {
     "name": "stdout",
     "output_type": "stream",
     "text": [
      "принтер не отвечает\n"
     ]
    }
   ],
   "source": [
    "class ExceptionPrint(Exception):\n",
    "    \"\"\"Общий класс исключения принтера\"\"\"\n",
    "\n",
    "class ExceptionPrintSendData(ExceptionPrint):\n",
    "    \"\"\"Класс исключения при отправке данных принтеру\"\"\"\n",
    "\n",
    "class PrintData:\n",
    "    def print(self, data):\n",
    "        self.send_data(data)\n",
    "        print(f\"печать: {str(data)}\")\n",
    " \n",
    "    def send_data(self, data):\n",
    "        if not self.send_to_print(data):\n",
    "            raise ExceptionPrintSendData(\"принтер не отвечает\")\n",
    " \n",
    "    def send_to_print(self, data):\n",
    "        return False\n",
    "    \n",
    "p = PrintData()\n",
    "try:\n",
    "    p.print(\"123\")\n",
    "except ExceptionPrintSendData as e:\n",
    "    print(e)\n",
    "except ExceptionPrint:\n",
    "    print(\"Ошибка печати\")"
   ]
  },
  {
   "attachments": {},
   "cell_type": "markdown",
   "metadata": {},
   "source": [
    "Менеджеры контекстов. Оператор with"
   ]
  },
  {
   "cell_type": "code",
   "execution_count": 4,
   "metadata": {},
   "outputs": [
    {
     "name": "stdout",
     "output_type": "stream",
     "text": [
      "[2, 4, 10]\n"
     ]
    }
   ],
   "source": [
    "class DefenerVector:\n",
    "    def __init__(self, v):\n",
    "        self.__v = v\n",
    " \n",
    "    def __enter__(self):\n",
    "        self.__temp = self.__v[:]  # делаем копию вектора v\n",
    "        return self.__temp\n",
    " \n",
    "    def __exit__(self, exc_type, exc_val, exc_tb):\n",
    "        if exc_type is None:\n",
    "            self.__v[:] = self.__temp\n",
    "        return False\n",
    "    \n",
    "v1 = [1, 2, 3]\n",
    "v2 = [1, 2]\n",
    "with DefenerVector(v1) as dv:\n",
    "    for i, n in enumerate(dv):\n",
    "        dv[i] += v2[i]\n",
    "print(v1)\n",
    "\n",
    "try:\n",
    "    with open(\"myfile.txt\") as fin:\n",
    "        with open(\"out.txt\", \"w\") as fout:\n",
    "            for line in fin:\n",
    "                fout.write(line)\n",
    "except Exception as e:\n",
    "    print(e)\n"
   ]
  }
 ],
 "metadata": {
  "kernelspec": {
   "display_name": ".venv",
   "language": "python",
   "name": "python3"
  },
  "language_info": {
   "codemirror_mode": {
    "name": "ipython",
    "version": 3
   },
   "file_extension": ".py",
   "mimetype": "text/x-python",
   "name": "python",
   "nbconvert_exporter": "python",
   "pygments_lexer": "ipython3",
   "version": "3.8.9"
  },
  "orig_nbformat": 4,
  "vscode": {
   "interpreter": {
    "hash": "19cdf52155f969b71a8bfa9ad26e685a408c30049432b481c00f00c60576f223"
   }
  }
 },
 "nbformat": 4,
 "nbformat_minor": 2
}
